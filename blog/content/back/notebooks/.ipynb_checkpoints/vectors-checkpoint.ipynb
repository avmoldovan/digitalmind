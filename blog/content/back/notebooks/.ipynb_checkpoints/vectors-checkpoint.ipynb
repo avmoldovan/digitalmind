{
 "metadata": {
  "name": "",
  "signature": "sha256:37e8cbc72bcbc3fa62abe0452bfdbc6b6f6d063cd8f023723446ff6a80044924"
 },
 "nbformat": 3,
 "nbformat_minor": 0,
 "worksheets": [
  {
   "cells": [
    {
     "cell_type": "heading",
     "level": 1,
     "metadata": {},
     "source": [
      "Notebook Vectors"
     ]
    },
    {
     "cell_type": "code",
     "collapsed": false,
     "input": [
      "print(\"Hello world!\")"
     ],
     "language": "python",
     "metadata": {},
     "outputs": [
      {
       "output_type": "stream",
       "stream": "stdout",
       "text": [
        "Hello world!\n"
       ]
      }
     ],
     "prompt_number": 1
    },
    {
     "cell_type": "code",
     "collapsed": false,
     "input": [
      "import numpy as np\n",
      "import matplotlib.pyplot as plt  \n",
      "import math\n",
      "%matplotlib inline\n",
      "\n",
      "soa =np.array( [ [0,0,4,4], [0,0,4,1],]) \n",
      "X,Y,U,V = zip(*soa)\n",
      "plt.figure()\n",
      "ax = plt.gca()\n",
      "ax.quiver(X,Y,U,V,angles='xy',scale_units='xy',scale=1)\n",
      "ax.set_xlim([-1,8])\n",
      "ax.set_ylim([-1,8])\n",
      "plt.draw()\n",
      "plt.show()"
     ],
     "language": "python",
     "metadata": {},
     "outputs": [
      {
       "metadata": {},
       "output_type": "display_data",
       "png": "[encoded data removed]",
       "text": [
        "<matplotlib.figure.Figure at 0x7fd903765358>"
       ]
      }
     ],
     "prompt_number": 13
    },
    {
     "cell_type": "code",
     "collapsed": false,
     "input": [
      "import matplotlib.pyplot as plt\n",
      "import numpy as np\n",
      "x = np.random.normal(10,5,100)\n",
      "y = 3 + .5*x + np.random.normal(0,1,100)\n",
      "myvec = np.array([x,y])\n",
      "plt.plot(myvec[0,],myvec[1,],'ro')\n",
      "plt.show()"
     ],
     "language": "python",
     "metadata": {},
     "outputs": [
      {
       "metadata": {},
       "output_type": "display_data",
       "png": "[encoded data removed]",
       "text": [
        "<matplotlib.figure.Figure at 0x7fd9039de2e8>"
       ]
      }
     ],
     "prompt_number": 14
    },
    {
     "cell_type": "code",
     "collapsed": false,
     "input": [],
     "language": "python",
     "metadata": {},
     "outputs": []
    }
   ],
   "metadata": {}
  }
 ]
}