{
 "metadata": {
  "name": "",
  "signature": "sha256:d6bcefe0046c0e8cbe38323159b78b6402ef17879765cac59fd278bf95c05b99"
 },
 "nbformat": 3,
 "nbformat_minor": 0,
 "worksheets": [
  {
   "cells": [
    {
     "cell_type": "code",
     "collapsed": false,
     "input": [
      "import numpy as np\n",
      "import matplotlib.pyplot as plt  \n",
      "import math\n",
      "%matplotlib inline\n",
      "\n",
      "# v1 =np.array( [ [0,0,4,4], ]) \n",
      "# X,Y,U,V = zip(*v1)\n",
      "# plt.figure()\n",
      "plot = plt.gca(aspect='equal')\n",
      "plot.set_xlim([0,5])\n",
      "plot.set_ylim([0,5])\n",
      "v1 = plot.quiver(0,0,2,3,angles='xy',scale_units='xy',scale=1, color=\"black\")\n",
      "plot.annotate('v1', xy=(2, 3))\n",
      "v1 = plot.quiver(0,0,4,1,angles='xy',scale_units='xy',scale=1, color=\"black\")\n",
      "plot.annotate('v2', xy=(4, 1))\n",
      "\n",
      "plt.draw()\n",
      "plt.show()"
     ],
     "language": "python",
     "metadata": {},
     "outputs": [
      {
       "metadata": {},
       "output_type": "display_data",
       "png": "[encoded data removed]",
       "text": [
        "<matplotlib.figure.Figure at 0x7f2a05591e48>"
       ]
      }
     ],
     "prompt_number": 50
    },
    {
     "cell_type": "code",
     "collapsed": false,
     "input": [],
     "language": "python",
     "metadata": {},
     "outputs": []
    }
   ],
   "metadata": {}
  }
 ]
}